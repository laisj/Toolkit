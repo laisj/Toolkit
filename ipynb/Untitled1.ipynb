{
 "cells": [
  {
   "cell_type": "code",
   "execution_count": 3,
   "metadata": {},
   "outputs": [
    {
     "data": {
      "text/plain": [
       "<tf.Tensor 'Const:0' shape=(1, 10, 10, 3) dtype=float32>"
      ]
     },
     "execution_count": 3,
     "output_type": "execute_result",
     "metadata": {}
    }
   ],
   "source": [
    "import numpy as np\n",
    "numpyData = np.zeros((1,10,10,3), dtype=np.float32)\n",
    "import tensorflow as tf\n",
    "tf.convert_to_tensor(numpyData)"
   ]
  },
  {
   "cell_type": "code",
   "execution_count": 6,
   "metadata": {},
   "outputs": [
    {
     "data": {
      "text/plain": [
       "array([1, 2, 3], dtype=int32)"
      ]
     },
     "execution_count": 6,
     "output_type": "execute_result",
     "metadata": {}
    }
   ],
   "source": [
    "config = tf.ConfigProto()\n",
    "config.gpu_options.allow_growth = True\n",
    "sess = tf.Session(config=config)\n",
    "tf.constant([1,2,3]).eval(session=sess)"
   ]
  },
  {
   "cell_type": "code",
   "execution_count": 9,
   "metadata": {},
   "outputs": [
    {
     "data": {
      "text/plain": [
       "[2, 3, 5]"
      ]
     },
     "execution_count": 9,
     "output_type": "execute_result",
     "metadata": {}
    }
   ],
   "source": [
    "[1,2,3,5][1:3+1]"
   ]
  },
  {
   "cell_type": "code",
   "execution_count": 13,
   "metadata": {},
   "outputs": [
    {
     "data": {
      "text/plain": [
       "(3,)"
      ]
     },
     "execution_count": 13,
     "output_type": "execute_result",
     "metadata": {}
    }
   ],
   "source": [
    "np.shape(np.reshape(np.array([1,2,3]), [-1]))"
   ]
  },
  {
   "cell_type": "code",
   "execution_count": 14,
   "metadata": {},
   "outputs": [
    {
     "data": {
      "text/plain": [
       "(3,)"
      ]
     },
     "execution_count": 14,
     "output_type": "execute_result",
     "metadata": {}
    }
   ],
   "source": [
    "np.shape(np.array([1,2,3]))"
   ]
  },
  {
   "cell_type": "code",
   "execution_count": 16,
   "metadata": {},
   "outputs": [
    {
     "data": {
      "text/plain": [
       "matrix([[3, 0, 1, 0],\n",
       "        [0, 2, 0, 0],\n",
       "        [0, 0, 0, 0],\n",
       "        [0, 0, 0, 1]])"
      ]
     },
     "execution_count": 16,
     "output_type": "execute_result",
     "metadata": {}
    }
   ],
   "source": [
    "from numpy import array\n",
    "from scipy.sparse import coo_matrix\n",
    "row  = array([0,0,1,3,1,0,0])\n",
    "col  = array([0,2,1,3,1,0,0])\n",
    "data = array([1,1,1,1,1,1,1])\n",
    "A = coo_matrix( (data,(row,col)), shape=(4,4))\n",
    "A.todense()"
   ]
  },
  {
   "cell_type": "code",
   "execution_count": 19,
   "metadata": {},
   "outputs": [
    {
     "data": {
      "text/plain": [
       "[7, 4]"
      ]
     },
     "execution_count": 19,
     "output_type": "execute_result",
     "metadata": {}
    }
   ],
   "source": [
    "[1,2,3,3,4,5,6,7,4][-2:]"
   ]
  },
  {
   "cell_type": "code",
   "execution_count": 21,
   "metadata": {},
   "outputs": [
    {
     "data": {
      "text/plain": [
       "[2, 3, 3, 4, 5]"
      ]
     },
     "execution_count": 21,
     "output_type": "execute_result",
     "metadata": {}
    }
   ],
   "source": [
    "[1,2,3,3,4,5,6,7,4][1:-3]"
   ]
  },
  {
   "cell_type": "code",
   "execution_count": 23,
   "metadata": {},
   "outputs": [
    {
     "ename": "AttributeError",
     "evalue": "'matrix' object has no attribute 'todense'",
     "output_type": "error",
     "traceback": [
      "\u001b[0;31m---------------------------------------------------------------------------\u001b[0m",
      "\u001b[0;31mAttributeError\u001b[0m                            Traceback (most recent call last)",
      "\u001b[0;32m<ipython-input-23-dcf4f7901639>\u001b[0m in \u001b[0;36m<module>\u001b[0;34m()\u001b[0m\n\u001b[0;32m----> 1\u001b[0;31m \u001b[0mnp\u001b[0m\u001b[0;34m.\u001b[0m\u001b[0mmatrix\u001b[0m\u001b[0;34m(\u001b[0m\u001b[0;34m[\u001b[0m\u001b[0;34m[\u001b[0m\u001b[0;36m1\u001b[0m\u001b[0;34m,\u001b[0m\u001b[0;36m2\u001b[0m\u001b[0;34m]\u001b[0m\u001b[0;34m,\u001b[0m\u001b[0;34m[\u001b[0m\u001b[0;36m3\u001b[0m\u001b[0;34m,\u001b[0m\u001b[0;36m4\u001b[0m\u001b[0;34m]\u001b[0m\u001b[0;34m]\u001b[0m\u001b[0;34m)\u001b[0m\u001b[0;34m.\u001b[0m\u001b[0mtodense\u001b[0m\u001b[0;34m(\u001b[0m\u001b[0;34m)\u001b[0m\u001b[0;34m\u001b[0m\u001b[0m\n\u001b[0m",
      "\u001b[0;31mAttributeError\u001b[0m: 'matrix' object has no attribute 'todense'"
     ]
    }
   ],
   "source": [
    "np.matrix([[1,2],[3,4]]).todense()"
   ]
  },
  {
   "cell_type": "code",
   "execution_count": 78,
   "metadata": {},
   "outputs": [
    {
     "name": "stdout",
     "output_type": "stream",
     "text": [
      "[[ 21.   2.   1.]\n",
      " [  1.   1.   1.]]\n"
     ]
    }
   ],
   "source": [
    "input1 = tf.placeholder(tf.float32)\n",
    "input2 = tf.placeholder(tf.float32)\n",
    "output = tf.multiply(input1, input2)\n",
    "with tf.Session() as sess:\n",
    "    print(sess.run(output, feed_dict={input1: [[7.,2.,1.],[1.,1.,1.]], input2: [[3.,1.,1.], [1.,1.,1.]]}))"
   ]
  },
  {
   "cell_type": "code",
   "execution_count": 33,
   "metadata": {},
   "outputs": [],
   "source": [
    "def init_var_map(init_vars, init_path=None):\n",
    "    var_map = {}\n",
    "    for var_name, var_shape, init_method, dtype in init_vars:\n",
    "        if init_method == 'xavier':\n",
    "            maxval = np.sqrt(6. / np.sum(var_shape))\n",
    "            minval = -maxval\n",
    "            var_map[var_name] = tf.Variable(tf.random_uniform(var_shape, minval=minval, maxval=maxval, dtype=dtype),\n",
    "                                            name=var_name, dtype=dtype)\n",
    "    return var_map"
   ]
  },
  {
   "cell_type": "code",
   "execution_count": 72,
   "metadata": {},
   "outputs": [
    {
     "name": "stdout",
     "output_type": "stream",
     "text": [
      "{'embed_0_2': <tf.Variable 'embed_0_2_24:0' shape=(3, 2) dtype=float32_ref>, 'embed_0_0': <tf.Variable 'embed_0_0_24:0' shape=(3, 2) dtype=float32_ref>, 'embed_0_1': <tf.Variable 'embed_0_1_24:0' shape=(3, 2) dtype=float32_ref>, 'embed_2_0': <tf.Variable 'embed_2_0_24:0' shape=(5, 2) dtype=float32_ref>, 'embed_2_1': <tf.Variable 'embed_2_1_24:0' shape=(5, 2) dtype=float32_ref>, 'embed_2_2': <tf.Variable 'embed_2_2_24:0' shape=(5, 2) dtype=float32_ref>, 'embed_1_2': <tf.Variable 'embed_1_2_24:0' shape=(4, 2) dtype=float32_ref>, 'embed_1_1': <tf.Variable 'embed_1_1_24:0' shape=(4, 2) dtype=float32_ref>, 'embed_1_0': <tf.Variable 'embed_1_0_24:0' shape=(4, 2) dtype=float32_ref>}\n",
      "  (0, 0)\t1.0\n",
      "  (1, 1)\t1.0\n",
      "0.694724\n",
      "0.69315\n",
      "0.693147\n",
      "0.693147\n",
      "0.693147\n"
     ]
    }
   ],
   "source": [
    "field_sizes = [3,4,5]\n",
    "embed_size = 2\n",
    "init_vars = []\n",
    "num_inputs = len(field_sizes)\n",
    "for i in range(num_inputs):\n",
    "    for j in range(num_inputs):\n",
    "        init_vars.append(('embed_%d_%d' % (i, j), [field_sizes[i], embed_size], 'xavier', tf.float32))\n",
    "\n",
    "X = [tf.sparse_placeholder(tf.float32) for i in range(num_inputs)]\n",
    "y = tf.placeholder(tf.float32)\n",
    "\n",
    "svars = init_var_map(init_vars)\n",
    "print(svars)\n",
    "w0 = []\n",
    "for i in range(num_inputs):\n",
    "    w_temp = []\n",
    "    for j in range(num_inputs):\n",
    "        w_temp.append(svars['embed_%d_%d' % (i, j)])\n",
    "    w0.append(w_temp)\n",
    "#self.vars['embed_%d_%d' % i % j] for i in range(num_inputs) for j in range(num_inputs)]\n",
    "#field_dense_fieldi_fieldj = [[tf.sparse_tensor_dense_matmul(self.X[i], w0[i * num_inputs + j]) for i in range(num_inputs)] for j in range(num_inputs)]\n",
    "dense_fieldij = []\n",
    "for i in range(num_inputs):\n",
    "    dense_temp = []\n",
    "    for j in range(num_inputs):\n",
    "        dense_temp.append(tf.sparse_tensor_dense_matmul(X[i], w0[i][j]))\n",
    "    dense_fieldij.append(dense_temp)\n",
    "\n",
    "product_results = []\n",
    "for i in range(num_inputs - 1):\n",
    "    for j in range(i, num_inputs - i):\n",
    "        product_results.append(tf.matmul(dense_fieldij[i][j], dense_fieldij[j][i]))\n",
    "l = tf.reduce_sum(product_results)\n",
    "loss = tf.reduce_mean(tf.nn.sigmoid_cross_entropy_with_logits(logits=l, labels=y))\n",
    "optimizer = tf.train.GradientDescentOptimizer(0.1).minimize(loss)\n",
    "\n",
    "from scipy.sparse import coo_matrix\n",
    "\n",
    "field1 = coo_matrix((np.array([1.,1.]), (np.array([0,1]), np.array([0,1]))), shape = (2,3)).tocoo()\n",
    "field2 = coo_matrix((np.array([1.,1.]), (np.array([0,1]), np.array([0,1]))), shape = (2,4)).tocoo()\n",
    "field3 = coo_matrix((np.array([1.,1.]), (np.array([0,1]), np.array([0,1]))), shape = (2,5)).tocoo()\n",
    "print(field1)\n",
    "data1 = np.vstack((field1.row, field1.col)).transpose(), field1.data, field1.shape\n",
    "data2 = np.vstack((field2.row, field2.col)).transpose(), field2.data, field2.shape\n",
    "data3 = np.vstack((field3.row, field3.col)).transpose(), field3.data, field3.shape\n",
    "data= [data1, data2, data3]\n",
    "\n",
    "with tf.Session() as sess:\n",
    "    init = tf.global_variables_initializer()\n",
    "    sess.run(init)\n",
    "    feed_dict1 = {}\n",
    "    for i in range(len(X)):\n",
    "        feed_dict1[X[i]] = data[i]\n",
    "    feed_dict1[y] = np.array([0,1])\n",
    "    for _ in range(10):\n",
    "        sess.run(optimizer, feed_dict=feed_dict1)\n",
    "        if _ % 2 == 0:\n",
    "            print(sess.run(loss, feed_dict=feed_dict1))"
   ]
  },
  {
   "cell_type": "code",
   "execution_count": 42,
   "metadata": {},
   "outputs": [
    {
     "ename": "TypeError",
     "evalue": "not enough arguments for format string",
     "output_type": "error",
     "traceback": [
      "\u001b[0;31m---------------------------------------------------------------------------\u001b[0m",
      "\u001b[0;31mTypeError\u001b[0m                                 Traceback (most recent call last)",
      "\u001b[0;32m<ipython-input-42-149f63f85c6a>\u001b[0m in \u001b[0;36m<module>\u001b[0;34m()\u001b[0m\n\u001b[0;32m----> 1\u001b[0;31m \u001b[0;32mprint\u001b[0m\u001b[0;34m(\u001b[0m\u001b[0;34m'adfasfd%d%d'\u001b[0m \u001b[0;34m%\u001b[0m \u001b[0;34m(\u001b[0m\u001b[0;36m1\u001b[0m\u001b[0;34m)\u001b[0m\u001b[0;34m)\u001b[0m\u001b[0;34m\u001b[0m\u001b[0m\n\u001b[0m",
      "\u001b[0;31mTypeError\u001b[0m: not enough arguments for format string"
     ]
    }
   ],
   "source": [
    "print('adfasfd%d%d' % (1))"
   ]
  },
  {
   "cell_type": "code",
   "execution_count": 75,
   "metadata": {},
   "outputs": [
    {
     "data": {
      "text/plain": [
       "[1]"
      ]
     },
     "execution_count": 75,
     "output_type": "execute_result",
     "metadata": {}
    }
   ],
   "source": [
    "[1 for x in range(3,4)]"
   ]
  },
  {
   "cell_type": "code",
   "execution_count": 146,
   "metadata": {},
   "outputs": [
    {
     "name": "stdout",
     "output_type": "stream",
     "text": [
      "[ 8.  3.  2.]\n",
      "Tensor(\"Shape_9:0\", shape=(?,), dtype=int32)\n",
      "Tensor(\"Shape_10:0\", shape=(?,), dtype=int32)\n"
     ]
    }
   ],
   "source": [
    "input1 = tf.placeholder(tf.float32)\n",
    "output = tf.reduce_sum(input1,0)\n",
    "with tf.Session() as sess:\n",
    "    print(sess.run(output, feed_dict={input1: [[7.,2.,1.],[1.,1.,1.]]}))\n",
    "    print(tf.shape(output))\n",
    "    print(tf.shape(input1))"
   ]
  },
  {
   "cell_type": "code",
   "execution_count": 99,
   "metadata": {},
   "outputs": [],
   "source": [
    "strqueue = tf.train.string_input_producer(\n",
    "    tf.train.match_filenames_once(\n",
    "        '/Users/laisijia/git/make-ipinyou-data/2259/train.txt*'))"
   ]
  },
  {
   "cell_type": "code",
   "execution_count": 100,
   "metadata": {},
   "outputs": [],
   "source": [
    "_,a = tf.TFRecordReader().read(strqueue)"
   ]
  },
  {
   "cell_type": "code",
   "execution_count": 101,
   "metadata": {},
   "outputs": [
    {
     "data": {
      "text/plain": [
       "<tf.Tensor 'ReaderReadV2_2:1' shape=() dtype=string>"
      ]
     },
     "execution_count": 101,
     "output_type": "execute_result",
     "metadata": {}
    }
   ],
   "source": [
    "a"
   ]
  },
  {
   "cell_type": "code",
   "execution_count": 102,
   "metadata": {},
   "outputs": [],
   "source": [
    "batch_serialized_example = tf.train.shuffle_batch([a],\n",
    "    batch_size=1024, num_threads=3, capacity=50000,\n",
    "    min_after_dequeue=10000,\n",
    "    allow_smaller_final_batch=True\n",
    "  )"
   ]
  },
  {
   "cell_type": "code",
   "execution_count": 103,
   "metadata": {},
   "outputs": [
    {
     "data": {
      "text/plain": [
       "<tf.Tensor 'shuffle_batch_1:0' shape=(?,) dtype=string>"
      ]
     },
     "execution_count": 103,
     "output_type": "execute_result",
     "metadata": {}
    }
   ],
   "source": [
    "batch_serialized_example"
   ]
  },
  {
   "cell_type": "code",
   "execution_count": 97,
   "metadata": {},
   "outputs": [],
   "source": [
    "features = tf.parse_example(batch_serialized_example, features={\n",
    "    'label': tf.FixedLenFeature([1], tf.float32),\n",
    "    'instance_id': tf.FixedLenFeature([1], tf.int64),\n",
    "    'feature_id': tf.VarLenFeature(tf.int64),\n",
    "    'value': tf.VarLenFeature(tf.float32),\n",
    "    'tree_feature_id': tf.VarLenFeature(tf.int64),\n",
    "    'tree_value': tf.VarLenFeature(tf.float32),\n",
    "  })"
   ]
  },
  {
   "cell_type": "code",
   "execution_count": 98,
   "metadata": {},
   "outputs": [
    {
     "data": {
      "text/plain": [
       "{'feature_id': <tensorflow.python.framework.sparse_tensor.SparseTensor at 0x1154e7950>,\n",
       " 'instance_id': <tf.Tensor 'ParseExample/ParseExample:12' shape=(?, 1) dtype=int64>,\n",
       " 'label': <tf.Tensor 'ParseExample/ParseExample:13' shape=(?, 1) dtype=float32>,\n",
       " 'tree_feature_id': <tensorflow.python.framework.sparse_tensor.SparseTensor at 0x1154e77d0>,\n",
       " 'tree_value': <tensorflow.python.framework.sparse_tensor.SparseTensor at 0x1154e76d0>,\n",
       " 'value': <tensorflow.python.framework.sparse_tensor.SparseTensor at 0x1154e7450>}"
      ]
     },
     "execution_count": 98,
     "output_type": "execute_result",
     "metadata": {}
    }
   ],
   "source": [
    "features"
   ]
  },
  {
   "cell_type": "code",
   "execution_count": 125,
   "metadata": {},
   "outputs": [
    {
     "name": "stdout",
     "output_type": "stream",
     "text": [
      "[[  1   1   1]\n",
      " [  1   1   1]\n",
      " [ 28  80 162]]\n"
     ]
    }
   ],
   "source": [
    "a = tf.constant([[1,2,3],[4,5,6],[7,8,9]])\n",
    "z=tf.segment_prod(a,[2,2,2])\n",
    "with tf.Session() as sess:\n",
    "    print(sess.run(z))"
   ]
  },
  {
   "cell_type": "code",
   "execution_count": 139,
   "metadata": {},
   "outputs": [
    {
     "data": {
      "text/plain": [
       "array([1, 1, 1])"
      ]
     },
     "execution_count": 139,
     "output_type": "execute_result",
     "metadata": {}
    }
   ],
   "source": [
    "np.array([[1,1,1],[2,2,2]])[0,:]"
   ]
  },
  {
   "cell_type": "code",
   "execution_count": 141,
   "metadata": {},
   "outputs": [
    {
     "name": "stdout",
     "output_type": "stream",
     "text": [
      "[0 1]\n",
      "[0 0 1 1 1]\n"
     ]
    }
   ],
   "source": [
    "a,b = tf.unique([0,0,1,1,1])\n",
    "with tf.Session() as sess:\n",
    "    print(sess.run(a))\n",
    "    print(sess.run(b))"
   ]
  },
  {
   "cell_type": "code",
   "execution_count": 143,
   "metadata": {},
   "outputs": [
    {
     "ename": "AttributeError",
     "evalue": "'numpy.ndarray' object has no attribute 'indices'",
     "output_type": "error",
     "traceback": [
      "\u001b[0;31m---------------------------------------------------------------------------\u001b[0m",
      "\u001b[0;31mAttributeError\u001b[0m                            Traceback (most recent call last)",
      "\u001b[0;32m<ipython-input-143-821d024274b4>\u001b[0m in \u001b[0;36m<module>\u001b[0;34m()\u001b[0m\n\u001b[0;32m----> 1\u001b[0;31m \u001b[0mnp\u001b[0m\u001b[0;34m.\u001b[0m\u001b[0marray\u001b[0m\u001b[0;34m(\u001b[0m\u001b[0;34m[\u001b[0m\u001b[0;36m1\u001b[0m\u001b[0;34m,\u001b[0m\u001b[0;36m1\u001b[0m\u001b[0;34m,\u001b[0m\u001b[0;36m1\u001b[0m\u001b[0;34m]\u001b[0m\u001b[0;34m)\u001b[0m\u001b[0;34m.\u001b[0m\u001b[0mindices\u001b[0m\u001b[0;34m\u001b[0m\u001b[0m\n\u001b[0m",
      "\u001b[0;31mAttributeError\u001b[0m: 'numpy.ndarray' object has no attribute 'indices'"
     ]
    }
   ],
   "source": [
    "np.array([1,1,1]).indices"
   ]
  },
  {
   "cell_type": "code",
   "execution_count": 160,
   "metadata": {},
   "outputs": [
    {
     "ename": "ValueError",
     "evalue": "Cannot reshape a tensor with 1 elements to shape [0] (0 elements) for 'Reshape_6' (op: 'Reshape') with input shapes: [1], [1] and with input tensors computed as partial shapes: input[1] = [0].",
     "output_type": "error",
     "traceback": [
      "\u001b[0;31m---------------------------------------------------------------------------\u001b[0m",
      "\u001b[0;31mValueError\u001b[0m                                Traceback (most recent call last)",
      "\u001b[0;32m<ipython-input-160-35e07f6031b7>\u001b[0m in \u001b[0;36m<module>\u001b[0;34m()\u001b[0m\n\u001b[0;32m----> 1\u001b[0;31m \u001b[0ma\u001b[0m \u001b[0;34m=\u001b[0m \u001b[0mtf\u001b[0m\u001b[0;34m.\u001b[0m\u001b[0mreshape\u001b[0m\u001b[0;34m(\u001b[0m\u001b[0;34m[\u001b[0m\u001b[0;36m0\u001b[0m\u001b[0;34m]\u001b[0m\u001b[0;34m,\u001b[0m\u001b[0mshape\u001b[0m\u001b[0;34m=\u001b[0m\u001b[0;34m[\u001b[0m\u001b[0;36m0\u001b[0m\u001b[0;34m]\u001b[0m\u001b[0;34m)\u001b[0m\u001b[0;34m\u001b[0m\u001b[0m\n\u001b[0m",
      "\u001b[0;32m/usr/local/lib/python2.7/site-packages/tensorflow/python/ops/gen_array_ops.pyc\u001b[0m in \u001b[0;36mreshape\u001b[0;34m(tensor, shape, name)\u001b[0m\n\u001b[1;32m   3936\u001b[0m   \u001b[0;32mif\u001b[0m \u001b[0m_ctx\u001b[0m\u001b[0;34m.\u001b[0m\u001b[0min_graph_mode\u001b[0m\u001b[0;34m(\u001b[0m\u001b[0;34m)\u001b[0m\u001b[0;34m:\u001b[0m\u001b[0;34m\u001b[0m\u001b[0m\n\u001b[1;32m   3937\u001b[0m     _, _, _op = _op_def_lib._apply_op_helper(\n\u001b[0;32m-> 3938\u001b[0;31m         \"Reshape\", tensor=tensor, shape=shape, name=name)\n\u001b[0m\u001b[1;32m   3939\u001b[0m     \u001b[0m_result\u001b[0m \u001b[0;34m=\u001b[0m \u001b[0m_op\u001b[0m\u001b[0;34m.\u001b[0m\u001b[0moutputs\u001b[0m\u001b[0;34m[\u001b[0m\u001b[0;34m:\u001b[0m\u001b[0;34m]\u001b[0m\u001b[0;34m\u001b[0m\u001b[0m\n\u001b[1;32m   3940\u001b[0m     \u001b[0m_inputs_flat\u001b[0m \u001b[0;34m=\u001b[0m \u001b[0m_op\u001b[0m\u001b[0;34m.\u001b[0m\u001b[0minputs\u001b[0m\u001b[0;34m\u001b[0m\u001b[0m\n",
      "\u001b[0;32m/usr/local/lib/python2.7/site-packages/tensorflow/python/framework/op_def_library.pyc\u001b[0m in \u001b[0;36m_apply_op_helper\u001b[0;34m(self, op_type_name, name, **keywords)\u001b[0m\n\u001b[1;32m    785\u001b[0m         op = g.create_op(op_type_name, inputs, output_types, name=scope,\n\u001b[1;32m    786\u001b[0m                          \u001b[0minput_types\u001b[0m\u001b[0;34m=\u001b[0m\u001b[0minput_types\u001b[0m\u001b[0;34m,\u001b[0m \u001b[0mattrs\u001b[0m\u001b[0;34m=\u001b[0m\u001b[0mattr_protos\u001b[0m\u001b[0;34m,\u001b[0m\u001b[0;34m\u001b[0m\u001b[0m\n\u001b[0;32m--> 787\u001b[0;31m                          op_def=op_def)\n\u001b[0m\u001b[1;32m    788\u001b[0m       \u001b[0;32mreturn\u001b[0m \u001b[0moutput_structure\u001b[0m\u001b[0;34m,\u001b[0m \u001b[0mop_def\u001b[0m\u001b[0;34m.\u001b[0m\u001b[0mis_stateful\u001b[0m\u001b[0;34m,\u001b[0m \u001b[0mop\u001b[0m\u001b[0;34m\u001b[0m\u001b[0m\n\u001b[1;32m    789\u001b[0m \u001b[0;34m\u001b[0m\u001b[0m\n",
      "\u001b[0;32m/usr/local/lib/python2.7/site-packages/tensorflow/python/framework/ops.pyc\u001b[0m in \u001b[0;36mcreate_op\u001b[0;34m(self, op_type, inputs, dtypes, input_types, name, attrs, op_def, compute_shapes, compute_device)\u001b[0m\n\u001b[1;32m   2956\u001b[0m         op_def=op_def)\n\u001b[1;32m   2957\u001b[0m     \u001b[0;32mif\u001b[0m \u001b[0mcompute_shapes\u001b[0m\u001b[0;34m:\u001b[0m\u001b[0;34m\u001b[0m\u001b[0m\n\u001b[0;32m-> 2958\u001b[0;31m       \u001b[0mset_shapes_for_outputs\u001b[0m\u001b[0;34m(\u001b[0m\u001b[0mret\u001b[0m\u001b[0;34m)\u001b[0m\u001b[0;34m\u001b[0m\u001b[0m\n\u001b[0m\u001b[1;32m   2959\u001b[0m     \u001b[0mself\u001b[0m\u001b[0;34m.\u001b[0m\u001b[0m_add_op\u001b[0m\u001b[0;34m(\u001b[0m\u001b[0mret\u001b[0m\u001b[0;34m)\u001b[0m\u001b[0;34m\u001b[0m\u001b[0m\n\u001b[1;32m   2960\u001b[0m     \u001b[0mself\u001b[0m\u001b[0;34m.\u001b[0m\u001b[0m_record_op_seen_by_control_dependencies\u001b[0m\u001b[0;34m(\u001b[0m\u001b[0mret\u001b[0m\u001b[0;34m)\u001b[0m\u001b[0;34m\u001b[0m\u001b[0m\n",
      "\u001b[0;32m/usr/local/lib/python2.7/site-packages/tensorflow/python/framework/ops.pyc\u001b[0m in \u001b[0;36mset_shapes_for_outputs\u001b[0;34m(op)\u001b[0m\n\u001b[1;32m   2207\u001b[0m       \u001b[0mshape_func\u001b[0m \u001b[0;34m=\u001b[0m \u001b[0m_call_cpp_shape_fn_and_require_op\u001b[0m\u001b[0;34m\u001b[0m\u001b[0m\n\u001b[1;32m   2208\u001b[0m \u001b[0;34m\u001b[0m\u001b[0m\n\u001b[0;32m-> 2209\u001b[0;31m   \u001b[0mshapes\u001b[0m \u001b[0;34m=\u001b[0m \u001b[0mshape_func\u001b[0m\u001b[0;34m(\u001b[0m\u001b[0mop\u001b[0m\u001b[0;34m)\u001b[0m\u001b[0;34m\u001b[0m\u001b[0m\n\u001b[0m\u001b[1;32m   2210\u001b[0m   \u001b[0;32mif\u001b[0m \u001b[0mshapes\u001b[0m \u001b[0;32mis\u001b[0m \u001b[0mNone\u001b[0m\u001b[0;34m:\u001b[0m\u001b[0;34m\u001b[0m\u001b[0m\n\u001b[1;32m   2211\u001b[0m     raise RuntimeError(\n",
      "\u001b[0;32m/usr/local/lib/python2.7/site-packages/tensorflow/python/framework/ops.pyc\u001b[0m in \u001b[0;36mcall_with_requiring\u001b[0;34m(op)\u001b[0m\n\u001b[1;32m   2157\u001b[0m \u001b[0;34m\u001b[0m\u001b[0m\n\u001b[1;32m   2158\u001b[0m   \u001b[0;32mdef\u001b[0m \u001b[0mcall_with_requiring\u001b[0m\u001b[0;34m(\u001b[0m\u001b[0mop\u001b[0m\u001b[0;34m)\u001b[0m\u001b[0;34m:\u001b[0m\u001b[0;34m\u001b[0m\u001b[0m\n\u001b[0;32m-> 2159\u001b[0;31m     \u001b[0;32mreturn\u001b[0m \u001b[0mcall_cpp_shape_fn\u001b[0m\u001b[0;34m(\u001b[0m\u001b[0mop\u001b[0m\u001b[0;34m,\u001b[0m \u001b[0mrequire_shape_fn\u001b[0m\u001b[0;34m=\u001b[0m\u001b[0mTrue\u001b[0m\u001b[0;34m)\u001b[0m\u001b[0;34m\u001b[0m\u001b[0m\n\u001b[0m\u001b[1;32m   2160\u001b[0m \u001b[0;34m\u001b[0m\u001b[0m\n\u001b[1;32m   2161\u001b[0m   \u001b[0m_call_cpp_shape_fn_and_require_op\u001b[0m \u001b[0;34m=\u001b[0m \u001b[0mcall_with_requiring\u001b[0m\u001b[0;34m\u001b[0m\u001b[0m\n",
      "\u001b[0;32m/usr/local/lib/python2.7/site-packages/tensorflow/python/framework/common_shapes.pyc\u001b[0m in \u001b[0;36mcall_cpp_shape_fn\u001b[0;34m(op, require_shape_fn)\u001b[0m\n\u001b[1;32m    625\u001b[0m     res = _call_cpp_shape_fn_impl(op, input_tensors_needed,\n\u001b[1;32m    626\u001b[0m                                   \u001b[0minput_tensors_as_shapes_needed\u001b[0m\u001b[0;34m,\u001b[0m\u001b[0;34m\u001b[0m\u001b[0m\n\u001b[0;32m--> 627\u001b[0;31m                                   require_shape_fn)\n\u001b[0m\u001b[1;32m    628\u001b[0m     \u001b[0;32mif\u001b[0m \u001b[0;32mnot\u001b[0m \u001b[0misinstance\u001b[0m\u001b[0;34m(\u001b[0m\u001b[0mres\u001b[0m\u001b[0;34m,\u001b[0m \u001b[0mdict\u001b[0m\u001b[0;34m)\u001b[0m\u001b[0;34m:\u001b[0m\u001b[0;34m\u001b[0m\u001b[0m\n\u001b[1;32m    629\u001b[0m       \u001b[0;31m# Handles the case where _call_cpp_shape_fn_impl calls unknown_shape(op).\u001b[0m\u001b[0;34m\u001b[0m\u001b[0;34m\u001b[0m\u001b[0m\n",
      "\u001b[0;32m/usr/local/lib/python2.7/site-packages/tensorflow/python/framework/common_shapes.pyc\u001b[0m in \u001b[0;36m_call_cpp_shape_fn_impl\u001b[0;34m(op, input_tensors_needed, input_tensors_as_shapes_needed, require_shape_fn)\u001b[0m\n\u001b[1;32m    689\u001b[0m       \u001b[0mmissing_shape_fn\u001b[0m \u001b[0;34m=\u001b[0m \u001b[0mTrue\u001b[0m\u001b[0;34m\u001b[0m\u001b[0m\n\u001b[1;32m    690\u001b[0m     \u001b[0;32melse\u001b[0m\u001b[0;34m:\u001b[0m\u001b[0;34m\u001b[0m\u001b[0m\n\u001b[0;32m--> 691\u001b[0;31m       \u001b[0;32mraise\u001b[0m \u001b[0mValueError\u001b[0m\u001b[0;34m(\u001b[0m\u001b[0merr\u001b[0m\u001b[0;34m.\u001b[0m\u001b[0mmessage\u001b[0m\u001b[0;34m)\u001b[0m\u001b[0;34m\u001b[0m\u001b[0m\n\u001b[0m\u001b[1;32m    692\u001b[0m \u001b[0;34m\u001b[0m\u001b[0m\n\u001b[1;32m    693\u001b[0m   \u001b[0;32mif\u001b[0m \u001b[0mmissing_shape_fn\u001b[0m\u001b[0;34m:\u001b[0m\u001b[0;34m\u001b[0m\u001b[0m\n",
      "\u001b[0;31mValueError\u001b[0m: Cannot reshape a tensor with 1 elements to shape [0] (0 elements) for 'Reshape_6' (op: 'Reshape') with input shapes: [1], [1] and with input tensors computed as partial shapes: input[1] = [0]."
     ]
    }
   ],
   "source": [
    "a = tf.reshape([0],shape=[0])"
   ]
  },
  {
   "cell_type": "code",
   "execution_count": 159,
   "metadata": {},
   "outputs": [
    {
     "data": {
      "text/plain": [
       "<tf.Tensor 'Reshape_5:0' shape=() dtype=int32>"
      ]
     },
     "execution_count": 159,
     "output_type": "execute_result",
     "metadata": {}
    }
   ],
   "source": [
    "a"
   ]
  },
  {
   "cell_type": "code",
   "execution_count": 154,
   "metadata": {},
   "outputs": [
    {
     "data": {
      "text/plain": [
       "<tf.Tensor 'Shape_14:0' shape=(3,) dtype=int32>"
      ]
     },
     "execution_count": 154,
     "output_type": "execute_result",
     "metadata": {}
    }
   ],
   "source": [
    "tf.shape(a)"
   ]
  },
  {
   "cell_type": "code",
   "execution_count": 155,
   "metadata": {},
   "outputs": [
    {
     "data": {
      "text/plain": [
       "<tf.Tensor 'Reshape_3:0' shape=(?, 0, 1) dtype=int32>"
      ]
     },
     "execution_count": 155,
     "output_type": "execute_result",
     "metadata": {}
    }
   ],
   "source": [
    "a"
   ]
  },
  {
   "cell_type": "code",
   "execution_count": 156,
   "metadata": {},
   "outputs": [
    {
     "data": {
      "text/plain": [
       "<tf.Tensor 'strided_slice:0' shape=(0, 1) dtype=int32>"
      ]
     },
     "execution_count": 156,
     "output_type": "execute_result",
     "metadata": {}
    }
   ],
   "source": [
    "a[0]"
   ]
  },
  {
   "cell_type": "code",
   "execution_count": 162,
   "metadata": {},
   "outputs": [
    {
     "data": {
      "text/plain": [
       "<tf.Tensor 'Reshape_8:0' shape=(3, 1) dtype=int32>"
      ]
     },
     "execution_count": 162,
     "output_type": "execute_result",
     "metadata": {}
    }
   ],
   "source": [
    "tf.reshape([1,1,1], (-1, 1))"
   ]
  },
  {
   "cell_type": "code",
   "execution_count": 166,
   "metadata": {},
   "outputs": [
    {
     "data": {
      "text/plain": [
       "<tf.Tensor 'Reshape_11:0' shape=(?, 0) dtype=int32>"
      ]
     },
     "execution_count": 166,
     "output_type": "execute_result",
     "metadata": {}
    }
   ],
   "source": [
    "tf.reshape([1,1,1], (-1,0))"
   ]
  },
  {
   "cell_type": "code",
   "execution_count": 164,
   "metadata": {},
   "outputs": [
    {
     "data": {
      "text/plain": [
       "<tf.Tensor 'Shape_15:0' shape=(1,) dtype=int32>"
      ]
     },
     "execution_count": 164,
     "output_type": "execute_result",
     "metadata": {}
    }
   ],
   "source": [
    "tf.shape([1,1,1])"
   ]
  },
  {
   "cell_type": "code",
   "execution_count": 168,
   "metadata": {},
   "outputs": [],
   "source": [
    "a = tf.string_split([\"1 1:0 2:0\"], \" \")"
   ]
  },
  {
   "cell_type": "code",
   "execution_count": 169,
   "metadata": {},
   "outputs": [
    {
     "data": {
      "text/plain": [
       "<tf.Tensor 'StringSplit_1:1' shape=(?,) dtype=string>"
      ]
     },
     "execution_count": 169,
     "output_type": "execute_result",
     "metadata": {}
    }
   ],
   "source": [
    "a.values"
   ]
  },
  {
   "cell_type": "code",
   "execution_count": 170,
   "metadata": {},
   "outputs": [
    {
     "data": {
      "text/plain": [
       "['0:1', '1:1', '2:1', '3:1']"
      ]
     },
     "execution_count": 170,
     "output_type": "execute_result",
     "metadata": {}
    }
   ],
   "source": [
    "[str(i) + \":\" + str(x) for i,x in enumerate([1,1,1,1])]"
   ]
  },
  {
   "cell_type": "code",
   "execution_count": null,
   "metadata": {},
   "outputs": [],
   "source": [
    ""
   ]
  }
 ],
 "metadata": {
  "kernelspec": {
   "display_name": "Python 2",
   "language": "python",
   "name": "python2"
  },
  "language_info": {
   "codemirror_mode": {
    "name": "ipython",
    "version": 2.0
   },
   "file_extension": ".py",
   "mimetype": "text/x-python",
   "name": "python",
   "nbconvert_exporter": "python",
   "pygments_lexer": "ipython2",
   "version": "2.7.11"
  }
 },
 "nbformat": 4,
 "nbformat_minor": 0
}