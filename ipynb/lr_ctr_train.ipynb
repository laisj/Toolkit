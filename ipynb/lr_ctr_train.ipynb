{
 "cells": [
  {
   "cell_type": "code",
   "execution_count": 75,
   "metadata": {
    "collapsed": false
   },
   "outputs": [],
   "source": [
    "import numpy as np\n",
    "import matplotlib.pyplot as plt\n",
    "from sklearn import *\n",
    "\n",
    "def print_auc(click, display, pctr):\n",
    "    data = zip(click, display, pctr)\n",
    "    data = sorted(data, key=lambda x:x[2], reverse=True)\n",
    "    last_ctr = data[0][2] + 1.0\n",
    "    auc_temp = 0.0\n",
    "    click_sum = 0.0\n",
    "    old_click_sum = 0.0\n",
    "    no_click = 0.0\n",
    "    no_click_sum = 0.0\n",
    "    for i in data:\n",
    "        if last_ctr != i[2]:\n",
    "            auc_temp += (click_sum + old_click_sum) * no_click / 2.0\n",
    "            old_click_sum = click_sum\n",
    "            no_click = 0.0\n",
    "            last_ctr = i[2]\n",
    "        no_click += i[1] - i[0]\n",
    "        no_click_sum += i[1] - i[0]\n",
    "        click_sum += i[0]\n",
    "    auc_temp += (click_sum+old_click_sum) * no_click / 2.0\n",
    "    auc = auc_temp / (click_sum * no_click_sum)\n",
    "    print auc\n",
    "\n",
    "def mask(x):\n",
    "    bitarr = [0]*10\n",
    "    bitarr[x] = 1\n",
    "    return bitarr\n",
    "    \n",
    "def gen(filename):\n",
    "    train = np.loadtxt(filename, delimiter=\",\", skiprows=0)\n",
    "    X = train[:,:-1]\n",
    "    y = train[:,-1]\n",
    "    \n",
    "    onearr = map(lambda x: int(x) if x<9 else 9,X[:,-1]*10)\n",
    "    twoarr = np.matrix(X[:,0]*X[:,-1])\n",
    "    print np.shape(twoarr)\n",
    "    bufarr = map(mask, onearr)\n",
    "    #bufarr = np.zeros((len(y),10))\n",
    "    X = np.append(X, bufarr,axis=1)\n",
    "    #X = np.append(X, np.transpose(twoarr),axis=1)\n",
    "    print np.shape(X)\n",
    "    return X,y\n"
   ]
  },
  {
   "cell_type": "code",
   "execution_count": 76,
   "metadata": {
    "collapsed": false
   },
   "outputs": [
    {
     "name": "stdout",
     "output_type": "stream",
     "text": [
      "(1, 393643)\n",
      "(393643, 64)\n"
     ]
    }
   ],
   "source": [
    "X,y = gen(\"label2.tsv\")\n",
    "\n",
    "\n",
    "#print clf.coefs_paths_\n"
   ]
  },
  {
   "cell_type": "code",
   "execution_count": 77,
   "metadata": {
    "collapsed": false
   },
   "outputs": [
    {
     "name": "stdout",
     "output_type": "stream",
     "text": [
      "[[ 1.  0.  1. ...,  0.  0.  0.]\n",
      " [ 0.  0.  0. ...,  0.  0.  1.]\n",
      " [ 0.  1.  0. ...,  0.  0.  1.]\n",
      " ..., \n",
      " [ 0.  0.  0. ...,  1.  0.  0.]\n",
      " [ 1.  0.  1. ...,  0.  0.  1.]\n",
      " [ 0.  0.  1. ...,  0.  0.  1.]]\n",
      "[   1.    1.    1. ...,  100.  100.  100.]\n"
     ]
    }
   ],
   "source": [
    "print X\n",
    "print (1-y)*99+1\n",
    "clf = linear_model.LogisticRegressionCV()\n",
    "clf.fit(X, y,sample_weight=(1-y)*99+1)\n",
    "#z = clf.predict(X)\n",
    "w = clf.predict_proba(X)"
   ]
  },
  {
   "cell_type": "code",
   "execution_count": 78,
   "metadata": {
    "collapsed": false
   },
   "outputs": [
    {
     "name": "stdout",
     "output_type": "stream",
     "text": [
      "{'scoring': None, 'n_jobs': 1, 'verbose': 0, 'intercept_scaling': 1.0, 'fit_intercept': True, 'max_iter': 100, 'refit': True, 'penalty': 'l2', 'multi_class': 'ovr', 'random_state': None, 'dual': False, 'tol': 0.0001, 'Cs': 10, 'solver': 'lbfgs', 'cv': None, 'class_weight': None}\n",
      "[[ -3.42784235e-02  -5.27665952e-02   1.98694110e-01  -8.43932555e-02\n",
      "   -1.03508190e-01  -4.47743469e-02  -1.29261183e-01  -7.43929365e-02\n",
      "   -1.94210170e-02  -6.19902131e-02  -8.89319974e-02  -1.64171793e-01\n",
      "   -1.16659568e-01  -2.17613081e-01   1.98369145e-02  -4.15214316e-03\n",
      "   -3.30413604e-02   1.72704347e-03  -3.36382053e-05  -1.34282153e-02\n",
      "   -1.65339312e-03  -4.34332576e-03   1.44910722e-02  -1.07737868e-02\n",
      "    2.54585724e-02   1.04596195e-02   1.22752961e-02   3.24817492e-03\n",
      "   -2.82824724e-02  -2.49752334e-02   4.81968471e-03   1.32208998e-02\n",
      "    4.79409049e-02  -2.56979125e-02  -1.42527965e-02   1.07583353e-03\n",
      "   -3.17222325e-02  -3.97400879e-03   6.98062192e-03   1.34514608e-03\n",
      "    2.67731553e-02   1.20170903e-02  -3.67161480e-04   7.18879493e-04\n",
      "    9.12149019e-04  -2.32368153e-06   1.13380444e-03  -2.52258008e-03\n",
      "   -2.74356185e-01  -8.17164220e-02   1.19914362e-01   2.54865327e-01\n",
      "   -1.83150337e-02   2.34324237e-01   1.55149211e-01  -2.17397621e-02\n",
      "   -1.24733604e-01  -1.32643543e-01  -1.33468714e-01  -9.28803801e-02\n",
      "   -4.21528137e-02   2.72457830e-03   3.33778793e-02   3.56759197e-01]]\n",
      "[-4.87018383]\n"
     ]
    }
   ],
   "source": [
    "print clf.get_params()\n",
    "print clf.coef_\n",
    "print clf.intercept_"
   ]
  },
  {
   "cell_type": "code",
   "execution_count": 79,
   "metadata": {
    "collapsed": false
   },
   "outputs": [
    {
     "name": "stdout",
     "output_type": "stream",
     "text": [
      "[ 0.00689125  0.03938439  0.00938145 ...,  0.01078253  0.01216081\n",
      "  0.01354005]\n",
      "0.673666595785\n",
      "0.649310806019\n",
      "[ 0.01  4.64  1.03 ...,  0.77  1.18  1.92]\n",
      "[ 1.  0.  0. ...,  0.  1.  1.]\n",
      "0.650996827842\n"
     ]
    }
   ],
   "source": [
    "click = y\n",
    "#pctr = X[:,-1]\n",
    "pctr = w[:,1]\n",
    "#print click\n",
    "#print display\n",
    "print pctr\n",
    "print metrics.roc_auc_score(click, pctr)\n",
    "print metrics.roc_auc_score(click, X[:,53])\n",
    "print X[:,53]\n",
    "print X[:,2]\n",
    "print metrics.roc_auc_score(click, X[:,53]*(X[:,2]* (0.2) + 0.9))\n"
   ]
  },
  {
   "cell_type": "code",
   "execution_count": 37,
   "metadata": {
    "collapsed": false
   },
   "outputs": [
    {
     "name": "stdout",
     "output_type": "stream",
     "text": [
      "(100000, 54)\n"
     ]
    }
   ],
   "source": [
    "XX,yy = gen(\"labeltest1.tsv\")\n",
    "ww = clf.predict_proba(XX)\n",
    "\n",
    "#\n",
    "#for xx,yy,ww in zip(X,y,w):\n",
    "#    print xx[-1], yy, ww[1]"
   ]
  },
  {
   "cell_type": "code",
   "execution_count": 38,
   "metadata": {
    "collapsed": false
   },
   "outputs": [
    {
     "name": "stdout",
     "output_type": "stream",
     "text": [
      "[ 0.    0.    1.    0.25  0.    0.    0.    0.    0.    0.    0.    0.    0.\n",
      "  0.    0.    0.    0.    0.    0.    0.    0.    0.    0.    0.    0.    0.\n",
      "  0.    0.    0.    0.    0.    0.    0.    0.    0.    0.    0.    0.    0.\n",
      "  0.    0.    0.    0.    0.    1.    0.    0.    0.    0.    0.    1.    0.\n",
      "  0.    0.54]\n",
      "[[ 0.98193211  0.01806789]]\n",
      "0.018067889354\n"
     ]
    }
   ],
   "source": [
    "tempx = XX[2]\n",
    "print tempx\n",
    "print clf.predict_proba([tempx])\n",
    "import math\n",
    "\n",
    "print 1-1/(1+math.exp((tempx.dot(clf.coef_[0]))+clf.intercept_[0]))"
   ]
  },
  {
   "cell_type": "code",
   "execution_count": 39,
   "metadata": {
    "collapsed": false
   },
   "outputs": [
    {
     "name": "stdout",
     "output_type": "stream",
     "text": [
      "0.498882137927\n",
      "0.498883263525\n",
      "0.5\n",
      "0.5\n",
      "0.68023956225\n",
      "0.5\n"
     ]
    }
   ],
   "source": [
    "print metrics.roc_auc_score(yy, XX[:,-11])\n",
    "print metrics.roc_auc_score(yy, XX[:,-11]*(XX[:,2]*(0.2)+0.9))\n",
    "print metrics.roc_auc_score(yy, XX[:,-11]*(XX[:,2]*(0.2)+0.9)*(XX[:,-16]*(0.8)+XX[:,-15]*0.8+XX[:,-14]*1.2+XX[:,-13]*1.2+XX[:,-12]*1.2))\n",
    "print metrics.roc_auc_score(yy, XX[:,-11]*(XX[:,-16]*(0.8)+XX[:,-15]*0.8+XX[:,-14]*1.2+XX[:,-13]*1.2+XX[:,-12]*1.2))\n",
    "print metrics.roc_auc_score(yy, ww[:,1])\n",
    "print metrics.roc_auc_score(yy, [1]*len(yy))"
   ]
  },
  {
   "cell_type": "code",
   "execution_count": 28,
   "metadata": {
    "collapsed": false
   },
   "outputs": [
    {
     "name": "stdout",
     "output_type": "stream",
     "text": [
      "0.496881692295\n",
      "0.499990276063\n",
      "0.0139055683892\n",
      "0.0255514322491\n"
     ]
    }
   ],
   "source": [
    "print np.mean(y)\n",
    "print np.std(y)\n",
    "print np.mean(w[:,1])\n",
    "print np.std(w[:,1])"
   ]
  },
  {
   "cell_type": "code",
   "execution_count": 41,
   "metadata": {
    "collapsed": false
   },
   "outputs": [
    {
     "name": "stdout",
     "output_type": "stream",
     "text": [
      "0.00987\n",
      "0.0988563761221\n",
      "0.00971959086806\n",
      "0.0103951711618\n"
     ]
    }
   ],
   "source": [
    "print np.mean(yy)\n",
    "print np.std(yy)\n",
    "print np.mean(ww[:,1])\n",
    "print np.std(ww[:,1])"
   ]
  },
  {
   "cell_type": "code",
   "execution_count": 30,
   "metadata": {
    "collapsed": false
   },
   "outputs": [
    {
     "name": "stdout",
     "output_type": "stream",
     "text": [
      "0.496881692295\n",
      "0.499990276063\n",
      "0.0139055683892\n",
      "0.0255514322491\n",
      "0.0134689586758\n",
      "0.0175276254224\n",
      "0.009538147\n",
      "0.00950153566043\n"
     ]
    }
   ],
   "source": [
    "print np.mean(y)\n",
    "print np.std(y)\n",
    "print np.mean(w[:,1])\n",
    "print np.std(w[:,1])\n",
    "print np.mean(X[:,-11]/100)\n",
    "print np.std(X[:,-11]/100)\n",
    "print np.mean(XX[:,-11]/100)\n",
    "print np.std(XX[:,-11]/100)"
   ]
  },
  {
   "cell_type": "code",
   "execution_count": null,
   "metadata": {
    "collapsed": true
   },
   "outputs": [],
   "source": []
  }
 ],
 "metadata": {
  "kernelspec": {
   "display_name": "Python 2",
   "language": "python",
   "name": "python2"
  },
  "language_info": {
   "codemirror_mode": {
    "name": "ipython",
    "version": 2
   },
   "file_extension": ".py",
   "mimetype": "text/x-python",
   "name": "python",
   "nbconvert_exporter": "python",
   "pygments_lexer": "ipython2",
   "version": "2.7.11"
  }
 },
 "nbformat": 4,
 "nbformat_minor": 0
}
