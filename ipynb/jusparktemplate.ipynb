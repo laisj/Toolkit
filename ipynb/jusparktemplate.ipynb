{
 "cells": [
  {
   "cell_type": "code",
   "execution_count": null,
   "metadata": {
    "collapsed": true
   },
   "outputs": [],
   "source": [
    "# coding:utf-8\n",
    "\n",
    "# setup: websocket open:8888\n",
    "#sudo pip install findspark\n",
    "#sudo pip install ipython==5.0\n",
    "#sudo pip install jupyter\n",
    "#sudo pip install matplotlib\n",
    "#sudo pip install scipy\n",
    "#history|grep \"pip install\"\n",
    "\n",
    "# set encoding, set print stdinout\n",
    "import sys\n",
    "stdout = sys.stdout\n",
    "reload(sys)\n",
    "sys.setdefaultencoding('utf-8')\n",
    "sys.stdout = stdout\n",
    "\n",
    "# spark context\n",
    "from pyspark import SparkContext\n",
    "from pyspark import SparkConf\n",
    "conf = SparkConf()\n",
    "sc = SparkContext.getOrCreate(conf)\n",
    "\n",
    "# parse json\n",
    "import json\n",
    "\n",
    "# use matplotlib\n",
    "import numpy as np\n",
    "import scipy.stats as stats\n",
    "import matplotlib.pyplot as plt\n",
    "plt.rcParams['font.sans-serif']=['SimHei'] #用来正常显示中文标签\n",
    "plt.rcParams['axes.unicode_minus']=False #用来正常显示负号\n",
    "%matplotlib inline\n",
    "\n",
    "plt.figure(figsize=(10,10))\n",
    "\n",
    "#plot scatter, hist, plot\n",
    "#plt.scatter(displayBar, pctrBar)\n",
    "#plt.plot(pctrTime, pctrBar)\n",
    "#plt.hist(X, 10)\n",
    "#plt.plot(p2, \"r\")"
   ]
  }
 ],
 "metadata": {
  "kernelspec": {
   "display_name": "Python 2",
   "language": "python",
   "name": "python2"
  },
  "language_info": {
   "codemirror_mode": {
    "name": "ipython",
    "version": 2
   },
   "file_extension": ".py",
   "mimetype": "text/x-python",
   "name": "python",
   "nbconvert_exporter": "python",
   "pygments_lexer": "ipython2",
   "version": "2.7.11"
  }
 },
 "nbformat": 4,
 "nbformat_minor": 0
}
