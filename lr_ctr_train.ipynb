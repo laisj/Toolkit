{
 "cells": [
  {
   "cell_type": "code",
   "execution_count": 35,
   "metadata": {
    "collapsed": false
   },
   "outputs": [],
   "source": [
    "import numpy as np\n",
    "import matplotlib.pyplot as plt\n",
    "#import sklearn\n",
    "from sklearn import *\n",
    "\n",
    "def print_auc(click, display, pctr):\n",
    "    data = zip(click, display, pctr)\n",
    "    data = sorted(data, key=lambda x:x[2], reverse=True)\n",
    "    last_ctr = data[0][2] + 1.0\n",
    "    auc_temp = 0.0\n",
    "    click_sum = 0.0\n",
    "    old_click_sum = 0.0\n",
    "    no_click = 0.0\n",
    "    no_click_sum = 0.0\n",
    "    for i in data:\n",
    "        if last_ctr != i[2]:\n",
    "            auc_temp += (click_sum + old_click_sum) * no_click / 2.0\n",
    "            old_click_sum = click_sum\n",
    "            no_click = 0.0\n",
    "            last_ctr = i[2]\n",
    "        no_click += i[1] - i[0]\n",
    "        no_click_sum += i[1] - i[0]\n",
    "        click_sum += i[0]\n",
    "    auc_temp += (click_sum+old_click_sum) * no_click / 2.0\n",
    "    auc = auc_temp / (click_sum * no_click_sum)\n",
    "    print auc\n",
    "\n"
   ]
  },
  {
   "cell_type": "code",
   "execution_count": 36,
   "metadata": {
    "collapsed": false
   },
   "outputs": [
    {
     "name": "stdout",
     "output_type": "stream",
     "text": [
      "[[ 0.    1.    1.   ...,  0.    0.    0.74]\n",
      " [ 0.    0.    1.   ...,  1.    0.    1.82]\n",
      " [ 1.    0.    1.   ...,  0.    0.    1.73]\n",
      " ..., \n",
      " [ 0.    0.    0.   ...,  0.    0.    0.28]\n",
      " [ 1.    1.    1.   ...,  0.    0.    0.93]\n",
      " [ 0.    0.    0.   ...,  0.    0.    0.31]]\n"
     ]
    }
   ],
   "source": [
    "# Generate a dataset and plot it\n",
    "train = np.loadtxt(\"filtertrain.csv\", delimiter=\",\", skiprows=0)\n",
    "#print train\n",
    "#X = zip(train[:,0],train[:,1],train[:,2],train[:,3], train[:,0]*train[:,1], train[:,0]*train[:,2],\n",
    "#        train[:,2]*train[:,1], train[:,0]*train[:,1]*train[:,2])\n",
    "#X = zip(train[:,0],train[:,1],train[:,2],train[:,3])\n",
    "#X = zip(train[:,3])\n",
    "X = train[:,:-1]\n",
    "y = train[:,-1]\n",
    "print X\n",
    "#print y\n"
   ]
  },
  {
   "cell_type": "code",
   "execution_count": 37,
   "metadata": {
    "collapsed": false
   },
   "outputs": [],
   "source": [
    "clf = linear_model.LogisticRegressionCV()\n",
    "clf.fit(X, y)\n",
    "#z = clf.predict(X)\n",
    "w = clf.predict_proba(X)\n",
    "\n",
    "#print clf.coefs_paths_\n"
   ]
  },
  {
   "cell_type": "code",
   "execution_count": 38,
   "metadata": {
    "collapsed": false
   },
   "outputs": [
    {
     "name": "stdout",
     "output_type": "stream",
     "text": [
      "{'scoring': None, 'n_jobs': 1, 'verbose': 0, 'intercept_scaling': 1.0, 'fit_intercept': True, 'max_iter': 100, 'refit': True, 'penalty': 'l2', 'multi_class': 'ovr', 'random_state': None, 'dual': False, 'tol': 0.0001, 'Cs': 10, 'solver': 'lbfgs', 'cv': None, 'class_weight': None}\n",
      "[[-0.03246706 -0.1209989   0.50112734 -0.35394691 -0.34554017 -0.26828919\n",
      "  -0.37532678 -0.33429472 -0.25734082 -0.34376909 -0.43399553 -0.49516481\n",
      "  -0.42041563 -0.6189364   0.11133026 -0.02398344 -0.07157168 -0.04552432\n",
      "  -0.01780481 -0.0429429  -0.0797549  -0.05546786  0.10359558 -0.04090498\n",
      "   0.09110383 -0.02711424  0.1365516   0.06559442 -0.0576098  -0.01874626\n",
      "   0.04540927  0.04673791  0.08102743 -0.06632355 -0.04545435 -0.01393142\n",
      "  -0.03320834  0.022256    0.02488261 -0.00937742  0.04562461  0.04237254\n",
      "   0.01322774  0.08694008  0.02138317 -0.00118894 -0.07536808  0.04583679\n",
      "  -0.55695092  0.04766277  0.04389989  0.38688363  0.08510192  0.34752646]]\n",
      "[-0.68886214]\n"
     ]
    }
   ],
   "source": [
    "print clf.get_params()\n",
    "print clf.coef_\n",
    "print clf.intercept_"
   ]
  },
  {
   "cell_type": "code",
   "execution_count": 39,
   "metadata": {
    "collapsed": false
   },
   "outputs": [
    {
     "name": "stdout",
     "output_type": "stream",
     "text": [
      "[ 0.00433748  0.0115287   0.00802582 ...,  0.00342353  0.00738977\n",
      "  0.00441686]\n",
      "0.70418307189\n",
      "0.667801331581\n",
      "0.662888611519\n"
     ]
    }
   ],
   "source": [
    "click = y\n",
    "display = [1] * len(y)\n",
    "#pctr = X[:,-1]\n",
    "pctr = w[:,1]/50\n",
    "#print click\n",
    "#print display\n",
    "print pctr\n",
    "print_auc(click, display, pctr)\n",
    "print_auc(click, display, X[:,-1])\n",
    "print_auc(click, display, X[:,-1]*(X[:,2]* (-0.2) + 1.1))\n"
   ]
  },
  {
   "cell_type": "code",
   "execution_count": 40,
   "metadata": {
    "collapsed": true
   },
   "outputs": [],
   "source": [
    "test = np.loadtxt(\"lr_label/testaa\", delimiter=\",\", skiprows=0)\n"
   ]
  },
  {
   "cell_type": "code",
   "execution_count": 49,
   "metadata": {
    "collapsed": false
   },
   "outputs": [
    {
     "name": "stdout",
     "output_type": "stream",
     "text": [
      "0.669905727201\n",
      "0.673035486691\n",
      "0.682559093626\n",
      "0.679186598241\n",
      "0.702394242477\n",
      "0.5\n"
     ]
    }
   ],
   "source": [
    "XX = test[:,:-1]\n",
    "yy = test[:,-1]\n",
    "ww = clf.predict_proba(XX)\n",
    "\n",
    "print_auc(yy, [1]*len(yy), XX[:,-1])\n",
    "print_auc(yy, [1]*len(yy), XX[:,-1]*(XX[:,2]*(0.2)+0.9))\n",
    "print_auc(yy, [1]*len(yy), XX[:,-1]*(XX[:,2]*(0.2)+0.9)*(XX[:,-6]*(0.8)+XX[:,-5]*0.8+XX[:,-4]*1.2+XX[:,-3]*1.2+XX[:,-2]*1.2))\n",
    "print_auc(yy, [1]*len(yy), XX[:,-1]*(XX[:,-6]*(0.8)+XX[:,-5]*0.8+XX[:,-4]*1.2+XX[:,-3]*1.2+XX[:,-2]*1.2))\n",
    "\n",
    "print_auc(yy, [1]*len(yy), ww[:,1])\n",
    "print_auc(yy, [1]*len(yy), [1]*len(yy))\n",
    "#\n",
    "#for xx,yy,ww in zip(X,y,w):\n",
    "#    print xx[-1], yy, ww[1]"
   ]
  },
  {
   "cell_type": "code",
   "execution_count": 10,
   "metadata": {
    "collapsed": true
   },
   "outputs": [],
   "source": [
    "param_arr = [\n",
    "-0.03246706,\n",
    "-0.1209989,\n",
    "0.50112734,\n",
    "-0.35394691,\n",
    "-0.34554017,\n",
    "-0.26828919,\n",
    "-0.37532678,\n",
    "-0.33429472,\n",
    "-0.25734082,\n",
    "-0.34376909,\n",
    "-0.43399553,\n",
    "-0.49516481,\n",
    "-0.42041563,\n",
    "-0.6189364,\n",
    "0.11133026,\n",
    "-0.02398344,\n",
    "-0.07157168,\n",
    "-0.04552432,\n",
    "-0.01780481,\n",
    "-0.0429429,\n",
    "-0.0797549,\n",
    "-0.05546786,\n",
    "0.10359558,\n",
    "-0.04090498,\n",
    "0.09110383,\n",
    "-0.02711424,\n",
    "0.1365516,\n",
    "0.06559442,\n",
    "-0.0576098,\n",
    "-0.01874626,\n",
    "0.04540927,\n",
    "0.04673791,\n",
    "0.08102743,\n",
    "-0.06632355,\n",
    "-0.04545435,\n",
    "-0.01393142,\n",
    "-0.03320834,\n",
    "0.022256,\n",
    "0.02488261,\n",
    "-0.00937742,\n",
    "0.04562461,\n",
    "0.04237254,\n",
    "0.01322774,\n",
    "0.08694008,\n",
    "0.02138317,\n",
    "-0.00118894,\n",
    "-0.07536808,\n",
    "0.04583679,\n",
    "-0.55695092,\n",
    "0.04766277,\n",
    "0.04389989,\n",
    "0.38688363,\n",
    "0.08510192,\n",
    "0.34752646]"
   ]
  },
  {
   "cell_type": "code",
   "execution_count": 34,
   "metadata": {
    "collapsed": false
   },
   "outputs": [
    {
     "name": "stdout",
     "output_type": "stream",
     "text": [
      "[ 0.    0.    0.    0.27  0.    0.    0.    0.    0.    0.    0.    0.    0.\n",
      "  0.    0.    0.    0.    0.    0.    0.    0.    0.    0.    0.    0.    1.\n",
      "  0.    0.    0.    0.    0.    0.    0.    0.    0.    0.    0.    0.    0.\n",
      "  0.    0.    0.    0.    0.    0.    0.    0.    0.    0.    0.    1.    0.\n",
      "  0.    0.92]\n",
      "[[ 0.61014406  0.38985594]]\n",
      "0.38985593868\n"
     ]
    }
   ],
   "source": [
    "tempx = XX[2]\n",
    "print tempx\n",
    "print clf.predict_proba([tempx])\n",
    "import math\n",
    "print 1-1/(1+math.exp(tempx.dot(param_arr)-0.68886214))"
   ]
  },
  {
   "cell_type": "code",
   "execution_count": null,
   "metadata": {
    "collapsed": true
   },
   "outputs": [],
   "source": []
  }
 ],
 "metadata": {
  "kernelspec": {
   "display_name": "Python 2",
   "language": "python",
   "name": "python2"
  },
  "language_info": {
   "codemirror_mode": {
    "name": "ipython",
    "version": 2
   },
   "file_extension": ".py",
   "mimetype": "text/x-python",
   "name": "python",
   "nbconvert_exporter": "python",
   "pygments_lexer": "ipython2",
   "version": "2.7.11"
  }
 },
 "nbformat": 4,
 "nbformat_minor": 0
}
